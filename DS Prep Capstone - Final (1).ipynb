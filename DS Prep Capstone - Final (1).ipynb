{
 "cells": [
  {
   "cell_type": "markdown",
   "metadata": {},
   "source": [
    "# Police Shootings, Poverty, and HS Graduations"
   ]
  },
  {
   "cell_type": "markdown",
   "metadata": {},
   "source": [
    "### Capstone Project by: Michael Kessler"
   ]
  },
  {
   "cell_type": "markdown",
   "metadata": {},
   "source": [
    "The topic of racially motivated police shootings in the US is current and contentious. Media coverage is notably biased toward narratives that support one of two conclusions. The fist is the position that race is a significant contributor to the number of police shooting incidents, with particular focus on blacks. The other narrative supported is that the racial effect is insignificant and that any rise in police shootings of black Americans is a result of crime rates in black neighborhoods. And of course there are variations along a spectrum between these positions. \n",
    "\n",
    "Clearly, either of these positions must be propped up on mountains of good data with clear, calculable hypotheses. It is vital to the national dialogue that conversations about the data be as dispassionate as possible and that the conclusions not be led by bias or presupposition. \n",
    "    \n",
    "The dataset located on www.kaggle.com entitled ‘Fatal Police Shootings in the US’ contains five CSV files for 2015 information on US median household income, percentage of high school graduations, percentage of people living below the poverty level, police killings, and racial breakdowns of US cities, all within 2015. The statewide data is further broken down by city. "
   ]
  },
  {
   "cell_type": "code",
   "execution_count": 1,
   "metadata": {
    "collapsed": true
   },
   "outputs": [],
   "source": [
    "import numpy as np\n",
    "import pandas as pd\n",
    "import matplotlib.pyplot as plt\n",
    "%matplotlib inline"
   ]
  },
  {
   "cell_type": "code",
   "execution_count": 2,
   "metadata": {
    "collapsed": true
   },
   "outputs": [],
   "source": [
    "income = pd.read_csv('MedianHouseholdIncome2015.csv', encoding='latin1')\n",
    "poverty = pd.read_csv('PercentagePeopleBelowPovertyLevel.csv', encoding='latin1')\n",
    "highSchool = pd.read_csv('PercentOver25CompletedHighSchool.csv', encoding='latin1')\n",
    "killings = pd.read_csv('PoliceKillingsUS.csv', encoding='latin1')\n",
    "race = pd.read_csv('ShareRaceByCity.csv', encoding='latin1')"
   ]
  },
  {
   "cell_type": "markdown",
   "metadata": {},
   "source": [
    "In order to manage the data, I grouped all city data under their respective states, taking the means of the city data as the representative of the state with city data that is incomplete being dropped to prevent erroneous skewing. City data that lacks any value for income, poverty percentage, or high school grad rates are omitted for all three as well"
   ]
  },
  {
   "cell_type": "code",
   "execution_count": 3,
   "metadata": {
    "collapsed": true
   },
   "outputs": [],
   "source": [
    "income['Median Income'] = pd.to_numeric(income['Median Income'], errors='coerce').dropna().astype(np.int64)\n",
    "income_state = income.groupby(['Geographic Area'])[['Median Income']].mean()\n",
    "poverty['poverty_rate'] = pd.to_numeric(poverty['poverty_rate'], errors='coerce').fillna(0).astype(np.int64)\n",
    "poverty_state = poverty.groupby(['Geographic Area'])[['poverty_rate']].mean()\n",
    "highSchool['percent_completed_hs'] = pd.to_numeric(highSchool['percent_completed_hs'], errors='coerce').fillna(0).astype(np.int64)\n",
    "highSchool_state = highSchool.groupby(['Geographic Area'])[['percent_completed_hs']].mean()"
   ]
  },
  {
   "cell_type": "code",
   "execution_count": 4,
   "metadata": {},
   "outputs": [
    {
     "data": {
      "text/html": [
       "<div>\n",
       "<style>\n",
       "    .dataframe thead tr:only-child th {\n",
       "        text-align: right;\n",
       "    }\n",
       "\n",
       "    .dataframe thead th {\n",
       "        text-align: left;\n",
       "    }\n",
       "\n",
       "    .dataframe tbody tr th {\n",
       "        vertical-align: top;\n",
       "    }\n",
       "</style>\n",
       "<table border=\"1\" class=\"dataframe\">\n",
       "  <thead>\n",
       "    <tr style=\"text-align: right;\">\n",
       "      <th></th>\n",
       "      <th>Median Income</th>\n",
       "    </tr>\n",
       "  </thead>\n",
       "  <tbody>\n",
       "    <tr>\n",
       "      <th>count</th>\n",
       "      <td>51.000000</td>\n",
       "    </tr>\n",
       "    <tr>\n",
       "      <th>mean</th>\n",
       "      <td>51937.305444</td>\n",
       "    </tr>\n",
       "    <tr>\n",
       "      <th>std</th>\n",
       "      <td>11288.986864</td>\n",
       "    </tr>\n",
       "    <tr>\n",
       "      <th>min</th>\n",
       "      <td>35002.099125</td>\n",
       "    </tr>\n",
       "    <tr>\n",
       "      <th>25%</th>\n",
       "      <td>42899.002128</td>\n",
       "    </tr>\n",
       "    <tr>\n",
       "      <th>50%</th>\n",
       "      <td>49811.306215</td>\n",
       "    </tr>\n",
       "    <tr>\n",
       "      <th>75%</th>\n",
       "      <td>59765.825500</td>\n",
       "    </tr>\n",
       "    <tr>\n",
       "      <th>max</th>\n",
       "      <td>80584.406367</td>\n",
       "    </tr>\n",
       "  </tbody>\n",
       "</table>\n",
       "</div>"
      ],
      "text/plain": [
       "       Median Income\n",
       "count      51.000000\n",
       "mean    51937.305444\n",
       "std     11288.986864\n",
       "min     35002.099125\n",
       "25%     42899.002128\n",
       "50%     49811.306215\n",
       "75%     59765.825500\n",
       "max     80584.406367"
      ]
     },
     "execution_count": 4,
     "metadata": {},
     "output_type": "execute_result"
    }
   ],
   "source": [
    "income_state.describe()"
   ]
  },
  {
   "cell_type": "code",
   "execution_count": 5,
   "metadata": {},
   "outputs": [
    {
     "data": {
      "text/html": [
       "<div>\n",
       "<style>\n",
       "    .dataframe thead tr:only-child th {\n",
       "        text-align: right;\n",
       "    }\n",
       "\n",
       "    .dataframe thead th {\n",
       "        text-align: left;\n",
       "    }\n",
       "\n",
       "    .dataframe tbody tr th {\n",
       "        vertical-align: top;\n",
       "    }\n",
       "</style>\n",
       "<table border=\"1\" class=\"dataframe\">\n",
       "  <thead>\n",
       "    <tr style=\"text-align: right;\">\n",
       "      <th></th>\n",
       "      <th>poverty_rate</th>\n",
       "    </tr>\n",
       "  </thead>\n",
       "  <tbody>\n",
       "    <tr>\n",
       "      <th>count</th>\n",
       "      <td>51.000000</td>\n",
       "    </tr>\n",
       "    <tr>\n",
       "      <th>mean</th>\n",
       "      <td>15.712898</td>\n",
       "    </tr>\n",
       "    <tr>\n",
       "      <th>std</th>\n",
       "      <td>4.531245</td>\n",
       "    </tr>\n",
       "    <tr>\n",
       "      <th>min</th>\n",
       "      <td>7.708257</td>\n",
       "    </tr>\n",
       "    <tr>\n",
       "      <th>25%</th>\n",
       "      <td>12.220913</td>\n",
       "    </tr>\n",
       "    <tr>\n",
       "      <th>50%</th>\n",
       "      <td>15.063235</td>\n",
       "    </tr>\n",
       "    <tr>\n",
       "      <th>75%</th>\n",
       "      <td>19.356714</td>\n",
       "    </tr>\n",
       "    <tr>\n",
       "      <th>max</th>\n",
       "      <td>26.425414</td>\n",
       "    </tr>\n",
       "  </tbody>\n",
       "</table>\n",
       "</div>"
      ],
      "text/plain": [
       "       poverty_rate\n",
       "count     51.000000\n",
       "mean      15.712898\n",
       "std        4.531245\n",
       "min        7.708257\n",
       "25%       12.220913\n",
       "50%       15.063235\n",
       "75%       19.356714\n",
       "max       26.425414"
      ]
     },
     "execution_count": 5,
     "metadata": {},
     "output_type": "execute_result"
    }
   ],
   "source": [
    "poverty_state.describe()"
   ]
  },
  {
   "cell_type": "code",
   "execution_count": 6,
   "metadata": {},
   "outputs": [
    {
     "data": {
      "text/html": [
       "<div>\n",
       "<style>\n",
       "    .dataframe thead tr:only-child th {\n",
       "        text-align: right;\n",
       "    }\n",
       "\n",
       "    .dataframe thead th {\n",
       "        text-align: left;\n",
       "    }\n",
       "\n",
       "    .dataframe tbody tr th {\n",
       "        vertical-align: top;\n",
       "    }\n",
       "</style>\n",
       "<table border=\"1\" class=\"dataframe\">\n",
       "  <thead>\n",
       "    <tr style=\"text-align: right;\">\n",
       "      <th></th>\n",
       "      <th>percent_completed_hs</th>\n",
       "    </tr>\n",
       "  </thead>\n",
       "  <tbody>\n",
       "    <tr>\n",
       "      <th>count</th>\n",
       "      <td>51.000000</td>\n",
       "    </tr>\n",
       "    <tr>\n",
       "      <th>mean</th>\n",
       "      <td>85.432820</td>\n",
       "    </tr>\n",
       "    <tr>\n",
       "      <th>std</th>\n",
       "      <td>4.501989</td>\n",
       "    </tr>\n",
       "    <tr>\n",
       "      <th>min</th>\n",
       "      <td>73.669147</td>\n",
       "    </tr>\n",
       "    <tr>\n",
       "      <th>25%</th>\n",
       "      <td>81.761420</td>\n",
       "    </tr>\n",
       "    <tr>\n",
       "      <th>50%</th>\n",
       "      <td>87.196286</td>\n",
       "    </tr>\n",
       "    <tr>\n",
       "      <th>75%</th>\n",
       "      <td>89.080398</td>\n",
       "    </tr>\n",
       "    <tr>\n",
       "      <th>max</th>\n",
       "      <td>91.585366</td>\n",
       "    </tr>\n",
       "  </tbody>\n",
       "</table>\n",
       "</div>"
      ],
      "text/plain": [
       "       percent_completed_hs\n",
       "count             51.000000\n",
       "mean              85.432820\n",
       "std                4.501989\n",
       "min               73.669147\n",
       "25%               81.761420\n",
       "50%               87.196286\n",
       "75%               89.080398\n",
       "max               91.585366"
      ]
     },
     "execution_count": 6,
     "metadata": {},
     "output_type": "execute_result"
    }
   ],
   "source": [
    "highSchool_state.describe()"
   ]
  },
  {
   "cell_type": "markdown",
   "metadata": {},
   "source": [
    "The income information for Arizona, for example, is calculated using the median household income for its 372 cities, resulting in a mean income of $42,495.67:"
   ]
  },
  {
   "cell_type": "code",
   "execution_count": 7,
   "metadata": {},
   "outputs": [
    {
     "data": {
      "text/html": [
       "<div>\n",
       "<style>\n",
       "    .dataframe thead tr:only-child th {\n",
       "        text-align: right;\n",
       "    }\n",
       "\n",
       "    .dataframe thead th {\n",
       "        text-align: left;\n",
       "    }\n",
       "\n",
       "    .dataframe tbody tr th {\n",
       "        vertical-align: top;\n",
       "    }\n",
       "</style>\n",
       "<table border=\"1\" class=\"dataframe\">\n",
       "  <thead>\n",
       "    <tr style=\"text-align: right;\">\n",
       "      <th></th>\n",
       "      <th>Median Income</th>\n",
       "    </tr>\n",
       "  </thead>\n",
       "  <tbody>\n",
       "    <tr>\n",
       "      <th>count</th>\n",
       "      <td>372.000000</td>\n",
       "    </tr>\n",
       "    <tr>\n",
       "      <th>mean</th>\n",
       "      <td>42495.666667</td>\n",
       "    </tr>\n",
       "    <tr>\n",
       "      <th>std</th>\n",
       "      <td>19503.296251</td>\n",
       "    </tr>\n",
       "    <tr>\n",
       "      <th>min</th>\n",
       "      <td>4511.000000</td>\n",
       "    </tr>\n",
       "    <tr>\n",
       "      <th>25%</th>\n",
       "      <td>30055.500000</td>\n",
       "    </tr>\n",
       "    <tr>\n",
       "      <th>50%</th>\n",
       "      <td>39000.000000</td>\n",
       "    </tr>\n",
       "    <tr>\n",
       "      <th>75%</th>\n",
       "      <td>49930.000000</td>\n",
       "    </tr>\n",
       "    <tr>\n",
       "      <th>max</th>\n",
       "      <td>151184.000000</td>\n",
       "    </tr>\n",
       "  </tbody>\n",
       "</table>\n",
       "</div>"
      ],
      "text/plain": [
       "       Median Income\n",
       "count     372.000000\n",
       "mean    42495.666667\n",
       "std     19503.296251\n",
       "min      4511.000000\n",
       "25%     30055.500000\n",
       "50%     39000.000000\n",
       "75%     49930.000000\n",
       "max    151184.000000"
      ]
     },
     "execution_count": 7,
     "metadata": {},
     "output_type": "execute_result"
    }
   ],
   "source": [
    "income.loc[income['Geographic Area'] == 'AZ'].describe()"
   ]
  },
  {
   "cell_type": "markdown",
   "metadata": {},
   "source": [
    "Note the use of Median Income for the cities as the measure of central tendency. Though the mean is often a better measure, this eliminates skewing due to outliers. However, the central tendency of the states is measured using mean of the medians. The distribution of these incomes for Arizona follows the same right-skewed distribution as that of the national data:"
   ]
  },
  {
   "cell_type": "code",
   "execution_count": 8,
   "metadata": {},
   "outputs": [
    {
     "data": {
      "text/plain": [
       "<matplotlib.text.Text at 0x106ff81d0>"
      ]
     },
     "execution_count": 8,
     "metadata": {},
     "output_type": "execute_result"
    },
    {
     "data": {
      "image/png": "[encoded data removed]",
      "text/plain": [
       "<matplotlib.figure.Figure at 0x108c0a518>"
      ]
     },
     "metadata": {},
     "output_type": "display_data"
    },
    {
     "data": {
      "image/png": "[encoded data removed]",
      "text/plain": [
       "<matplotlib.figure.Figure at 0x106f9aa90>"
      ]
     },
     "metadata": {},
     "output_type": "display_data"
    }
   ],
   "source": [
    "income_az = income.loc[income['Geographic Area'] == 'AZ']\n",
    "pd.DataFrame.hist(income_az, bins=10)\n",
    "plt.title('Median incomes Arizona')\n",
    "pd.DataFrame.hist(income_state, bins=10)\n",
    "plt.title('Median Incomes U.S. States')"
   ]
  },
  {
   "cell_type": "markdown",
   "metadata": {},
   "source": [
    "The first problem with the data I found is that no matter how complete the data is for each locale and what statistical correlations may exist, this is only data for a single year, 2015. Without previous year data to compare, any correlations cannot be shown to reflect any trends. Accordingly, I decided to move my focus away from the data on police shootings until I had processed and analyzed the raw demographic data as it pertains to education, income, and poverty. To start, I wanted to see if there appears to be a correlation between high school graduation rates, income, and poverty. It seems intuitive that they are related. But again, given the politically charged nature of the subject verification of what is presumed true seems appropriate.  \n",
    "    \n",
    "Additionally, one might wonder why, if statistical relationships between race and police shootings are the focus, why all the demographic data on wealth and education to begin with. The answer rests in the alternate opinion that high crime rates in certain areas are the cause of increased police shootings and that these areas can be identified by low graduation rates and income as well as high percentages of the population living below the poverty line. So it is this relationship that I’ll investigate first. \n",
    "    \n",
    "To calculate the strength of a linear relationship between two variables, we use the sample correlation coefficient, or a Pearson’s r. Its range is -1 ≤ r ≤ +1. The closer r is to 0 the less of a linear relationship exists between x and y. Near +1 we can say that there is a strong positive relationship, while a value closer to -1 indicates a strong negative relationship. Using the mean poverty rates, graduation rates, and mean of median incomes for each state, plus Washington D.C. we have 51 data points to work with. Statisticians often determine this by calculating the coefficient for high school graduation rates and poverty. "
   ]
  },
  {
   "cell_type": "code",
   "execution_count": 9,
   "metadata": {},
   "outputs": [
    {
     "data": {
      "text/html": [
       "<div>\n",
       "<style>\n",
       "    .dataframe thead tr:only-child th {\n",
       "        text-align: right;\n",
       "    }\n",
       "\n",
       "    .dataframe thead th {\n",
       "        text-align: left;\n",
       "    }\n",
       "\n",
       "    .dataframe tbody tr th {\n",
       "        vertical-align: top;\n",
       "    }\n",
       "</style>\n",
       "<table border=\"1\" class=\"dataframe\">\n",
       "  <thead>\n",
       "    <tr style=\"text-align: right;\">\n",
       "      <th></th>\n",
       "      <th>income_state</th>\n",
       "      <th>highSchoolState</th>\n",
       "    </tr>\n",
       "  </thead>\n",
       "  <tbody>\n",
       "    <tr>\n",
       "      <th>income_state</th>\n",
       "      <td>1.000000</td>\n",
       "      <td>0.562528</td>\n",
       "    </tr>\n",
       "    <tr>\n",
       "      <th>highSchoolState</th>\n",
       "      <td>0.562528</td>\n",
       "      <td>1.000000</td>\n",
       "    </tr>\n",
       "  </tbody>\n",
       "</table>\n",
       "</div>"
      ],
      "text/plain": [
       "                 income_state  highSchoolState\n",
       "income_state         1.000000         0.562528\n",
       "highSchoolState      0.562528         1.000000"
      ]
     },
     "execution_count": 9,
     "metadata": {},
     "output_type": "execute_result"
    }
   ],
   "source": [
    "income_highSchool_state = pd.concat([income_state['Median Income'], highSchool_state['percent_completed_hs']], axis=1, keys=['income_state', 'highSchoolState'])\n",
    "income_highSchool_state.corr(method='pearson')"
   ]
  },
  {
   "cell_type": "markdown",
   "metadata": {},
   "source": [
    "Accordingly, we see that income and high school graduation rates have an above average positive relationship of 0.562528. Of course, another quick way to assess the relationship of these variables is a simple scatter plot analysis. "
   ]
  },
  {
   "cell_type": "code",
   "execution_count": 10,
   "metadata": {},
   "outputs": [
    {
     "data": {
      "text/plain": [
       "<matplotlib.text.Text at 0x1070aa6a0>"
      ]
     },
     "execution_count": 10,
     "metadata": {},
     "output_type": "execute_result"
    },
    {
     "data": {
      "image/png": "[encoded data removed]",
      "text/plain": [
       "<matplotlib.figure.Figure at 0x108c0a8d0>"
      ]
     },
     "metadata": {},
     "output_type": "display_data"
    }
   ],
   "source": [
    "fig = plt.figure(figsize=(9,7))\n",
    "plt.scatter(highSchool_state, poverty_state, s=None)\n",
    "plt.xlabel(\"High School Graduation Rate\")\n",
    "plt.ylabel(\"Poverty Rate\")"
   ]
  },
  {
   "cell_type": "markdown",
   "metadata": {},
   "source": [
    "Here we can see a clearly strong, negative linear relationship between the two variables, this time using high school graduation rates and percentage of population below the poverty level. This means that as high school graduation rates increase, poverty decreases. An unsurprising result, as is the strong positive linear relationship between high school graduation and income, albeit somewhat weaker than the former relationship as might be expected in a capitalist job market. "
   ]
  },
  {
   "cell_type": "code",
   "execution_count": 12,
   "metadata": {},
   "outputs": [
    {
     "data": {
      "text/plain": [
       "<matplotlib.text.Text at 0x1085f06d8>"
      ]
     },
     "execution_count": 12,
     "metadata": {},
     "output_type": "execute_result"
    },
    {
     "data": {
      "image/png": "[encoded data removed]",
      "text/plain": [
       "<matplotlib.figure.Figure at 0x1070abe10>"
      ]
     },
     "metadata": {},
     "output_type": "display_data"
    }
   ],
   "source": [
    "fig = plt.figure(figsize=(9,7))\n",
    "plt.scatter(highSchool_state, income_state, s=None)\n",
    "plt.xlabel(\"High School Graduation Rate\")\n",
    "plt.ylabel(\"Income\")"
   ]
  },
  {
   "cell_type": "markdown",
   "metadata": {},
   "source": [
    "The next question to be asked is whether or not the racial makeup of areas most affected by low education, low income, and higher poverty levels are consistent with the media narrative. If true, however, the next step is not to start analyzing police shootings in these areas until we can establish that these regions also possess higher crime rates that would call for increased police presence. If an area is being policed more, then increases in police activity is to be expected and the per-capita rates of police shootings may be entirely consistent. This will be the focus of further research. "
   ]
  },
  {
   "cell_type": "code",
   "execution_count": null,
   "metadata": {
    "collapsed": true
   },
   "outputs": [],
   "source": []
  }
 ],
 "metadata": {
  "kernelspec": {
   "display_name": "Python 3",
   "language": "python",
   "name": "python3"
  },
  "language_info": {
   "codemirror_mode": {
    "name": "ipython",
    "version": 3
   },
   "file_extension": ".py",
   "mimetype": "text/x-python",
   "name": "python",
   "nbconvert_exporter": "python",
   "pygments_lexer": "ipython3",
   "version": "3.6.4"
  }
 },
 "nbformat": 4,
 "nbformat_minor": 2
}
