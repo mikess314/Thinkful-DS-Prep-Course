{
 "cells": [
  {
   "cell_type": "markdown",
   "metadata": {},
   "source": [
    "# Education, Income, & Poverty in the U.S. and Relationship to Racial Makeup in U.S. Cities"
   ]
  },
  {
   "cell_type": "markdown",
   "metadata": {},
   "source": [
    "### Capstone Project by: Michael J. Kessler"
   ]
  },
  {
   "cell_type": "markdown",
   "metadata": {},
   "source": [
    "The topic of racially motivated police shootings in the US is current and contentious. Media coverage is notably biased toward narratives that support one of two conclusions. The first is the position that race is a significant contributor to the number of police shooting incidents, with particular focus on black Americans. The other narrative supported is that the racial effect is insignificant and that any rise in police shootings of black Americans is a result of crime rates in black neighborhoods. Of course there are variations along a spectrum between these positions. But these are the two narratives that receive the majority of the social dialogue. \n",
    "\n",
    "Clearly, either of these positions must be propped up on mountains of good data with clear, calculable hypotheses. It is vital to the national dialogue that conversations about the data be as dispassionate as possible and that the conclusions not be led by bias or presupposition. \n",
    "\n",
    "I intend to analyze data to answer the following questions:\n",
    "\n",
    "1. Is there a correlation between Education Rates (high school) and Poverty Rates in U.S. states?\n",
    "2. Similiary, is there a correlation between Education Rates (high school) and Median Income in U.S. States?\n",
    "3. What is the relationship among these variables and concentrations of black Americans in U.S. cities and states?\n",
    "    \n",
    "The purpose of these questions is to support the null hypothesis that there is no racial bias that fatal police shooting incidents are not racially motivated and any disproportionate increase among African Americans is the result of other factors external to race. \n",
    "\n",
    "The dataset located on Kaggle entitled [‘Fatal Police Shootings in the US’](https://www.kaggle.com/kwullum/fatal-police-shootings-in-the-us/data) contains five CSV files for 2015 information on US median household income, percentage of high school graduations, percentage of people living below the poverty level, police killings, and racial breakdowns of US cities, all within 2015. The statewide data is further broken down by city. "
   ]
  },
  {
   "cell_type": "code",
   "execution_count": 145,
   "metadata": {},
   "outputs": [],
   "source": [
    "import numpy as np\n",
    "import pandas as pd\n",
    "import matplotlib.pyplot as plt\n",
    "%matplotlib inline"
   ]
  },
  {
   "cell_type": "code",
   "execution_count": 146,
   "metadata": {},
   "outputs": [],
   "source": [
    "income = pd.read_csv('MedianHouseholdIncome2015.csv', encoding='latin1')\n",
    "poverty = pd.read_csv('PercentagePeopleBelowPovertyLevel.csv', encoding='latin1')\n",
    "highSchool = pd.read_csv('PercentOver25CompletedHighSchool.csv', encoding='latin1')\n",
    "killings = pd.read_csv('PoliceKillingsUS.csv', encoding='latin1')\n",
    "race = pd.read_csv('ShareRaceByCity.csv', encoding='latin1')"
   ]
  },
  {
   "cell_type": "markdown",
   "metadata": {},
   "source": [
    "In order to manage the data, I grouped all city data under their respective states, taking the means of the city data as the representative of the state with city data that is incomplete being dropped to prevent erroneous skewing. City data that lacks any value for income, poverty percentage, or high school grad rates are omitted for all three as well. Additionally, I've grouped the percentage of black populations in U.S. cities for the mean in their respective states. However, the problem of police killings is not necessarily statewide. If, for instance, I group all Illinois together, I might find that the concentration of black Americans and incidents of police killings go down considerably (as well as the statistical usefulness) compared to the same data just for Chicago. "
   ]
  },
  {
   "cell_type": "code",
   "execution_count": 147,
   "metadata": {},
   "outputs": [],
   "source": [
    "income['Median Income'] = pd.to_numeric(income['Median Income'], errors='coerce').dropna().astype(np.int64)\n",
    "income_state = income.groupby(['Geographic Area'])[['Median Income']].mean()\n",
    "poverty['poverty_rate'] = pd.to_numeric(poverty['poverty_rate'], errors='coerce').fillna(0).astype(float)\n",
    "poverty_state = poverty.groupby(['Geographic Area'])[['poverty_rate']].mean()\n",
    "highSchool['percent_completed_hs'] = pd.to_numeric(highSchool['percent_completed_hs'], errors='coerce').fillna(0).astype(float)\n",
    "highSchool_state = highSchool.groupby(['Geographic Area'])[['percent_completed_hs']].mean()\n",
    "race['share_black'] = pd.to_numeric(race['share_black'], errors='coerce').fillna(0).astype(float)\n",
    "race_state_black = race.groupby(['Geographic area'])[['share_black']].mean()"
   ]
  },
  {
   "cell_type": "code",
   "execution_count": 148,
   "metadata": {},
   "outputs": [
    {
     "data": {
      "text/html": [
       "<div>\n",
       "<style scoped>\n",
       "    .dataframe tbody tr th:only-of-type {\n",
       "        vertical-align: middle;\n",
       "    }\n",
       "\n",
       "    .dataframe tbody tr th {\n",
       "        vertical-align: top;\n",
       "    }\n",
       "\n",
       "    .dataframe thead th {\n",
       "        text-align: right;\n",
       "    }\n",
       "</style>\n",
       "<table border=\"1\" class=\"dataframe\">\n",
       "  <thead>\n",
       "    <tr style=\"text-align: right;\">\n",
       "      <th></th>\n",
       "      <th>Median Income</th>\n",
       "    </tr>\n",
       "  </thead>\n",
       "  <tbody>\n",
       "    <tr>\n",
       "      <th>count</th>\n",
       "      <td>51.000000</td>\n",
       "    </tr>\n",
       "    <tr>\n",
       "      <th>mean</th>\n",
       "      <td>51937.305444</td>\n",
       "    </tr>\n",
       "    <tr>\n",
       "      <th>std</th>\n",
       "      <td>11288.986864</td>\n",
       "    </tr>\n",
       "    <tr>\n",
       "      <th>min</th>\n",
       "      <td>35002.099125</td>\n",
       "    </tr>\n",
       "    <tr>\n",
       "      <th>25%</th>\n",
       "      <td>42899.002128</td>\n",
       "    </tr>\n",
       "    <tr>\n",
       "      <th>50%</th>\n",
       "      <td>49811.306215</td>\n",
       "    </tr>\n",
       "    <tr>\n",
       "      <th>75%</th>\n",
       "      <td>59765.825500</td>\n",
       "    </tr>\n",
       "    <tr>\n",
       "      <th>max</th>\n",
       "      <td>80584.406367</td>\n",
       "    </tr>\n",
       "  </tbody>\n",
       "</table>\n",
       "</div>"
      ],
      "text/plain": [
       "       Median Income\n",
       "count      51.000000\n",
       "mean    51937.305444\n",
       "std     11288.986864\n",
       "min     35002.099125\n",
       "25%     42899.002128\n",
       "50%     49811.306215\n",
       "75%     59765.825500\n",
       "max     80584.406367"
      ]
     },
     "execution_count": 148,
     "metadata": {},
     "output_type": "execute_result"
    }
   ],
   "source": [
    "income_state.describe()"
   ]
  },
  {
   "cell_type": "code",
   "execution_count": 149,
   "metadata": {},
   "outputs": [
    {
     "data": {
      "text/html": [
       "<div>\n",
       "<style scoped>\n",
       "    .dataframe tbody tr th:only-of-type {\n",
       "        vertical-align: middle;\n",
       "    }\n",
       "\n",
       "    .dataframe tbody tr th {\n",
       "        vertical-align: top;\n",
       "    }\n",
       "\n",
       "    .dataframe thead th {\n",
       "        text-align: right;\n",
       "    }\n",
       "</style>\n",
       "<table border=\"1\" class=\"dataframe\">\n",
       "  <thead>\n",
       "    <tr style=\"text-align: right;\">\n",
       "      <th></th>\n",
       "      <th>poverty_rate</th>\n",
       "    </tr>\n",
       "  </thead>\n",
       "  <tbody>\n",
       "    <tr>\n",
       "      <th>count</th>\n",
       "      <td>51.000000</td>\n",
       "    </tr>\n",
       "    <tr>\n",
       "      <th>mean</th>\n",
       "      <td>16.120463</td>\n",
       "    </tr>\n",
       "    <tr>\n",
       "      <th>std</th>\n",
       "      <td>4.533395</td>\n",
       "    </tr>\n",
       "    <tr>\n",
       "      <th>min</th>\n",
       "      <td>8.160917</td>\n",
       "    </tr>\n",
       "    <tr>\n",
       "      <th>25%</th>\n",
       "      <td>12.607819</td>\n",
       "    </tr>\n",
       "    <tr>\n",
       "      <th>50%</th>\n",
       "      <td>15.499853</td>\n",
       "    </tr>\n",
       "    <tr>\n",
       "      <th>75%</th>\n",
       "      <td>19.803889</td>\n",
       "    </tr>\n",
       "    <tr>\n",
       "      <th>max</th>\n",
       "      <td>26.884254</td>\n",
       "    </tr>\n",
       "  </tbody>\n",
       "</table>\n",
       "</div>"
      ],
      "text/plain": [
       "       poverty_rate\n",
       "count     51.000000\n",
       "mean      16.120463\n",
       "std        4.533395\n",
       "min        8.160917\n",
       "25%       12.607819\n",
       "50%       15.499853\n",
       "75%       19.803889\n",
       "max       26.884254"
      ]
     },
     "execution_count": 149,
     "metadata": {},
     "output_type": "execute_result"
    }
   ],
   "source": [
    "poverty_state.describe()"
   ]
  },
  {
   "cell_type": "code",
   "execution_count": 150,
   "metadata": {},
   "outputs": [
    {
     "data": {
      "text/html": [
       "<div>\n",
       "<style scoped>\n",
       "    .dataframe tbody tr th:only-of-type {\n",
       "        vertical-align: middle;\n",
       "    }\n",
       "\n",
       "    .dataframe tbody tr th {\n",
       "        vertical-align: top;\n",
       "    }\n",
       "\n",
       "    .dataframe thead th {\n",
       "        text-align: right;\n",
       "    }\n",
       "</style>\n",
       "<table border=\"1\" class=\"dataframe\">\n",
       "  <thead>\n",
       "    <tr style=\"text-align: right;\">\n",
       "      <th></th>\n",
       "      <th>percent_completed_hs</th>\n",
       "    </tr>\n",
       "  </thead>\n",
       "  <tbody>\n",
       "    <tr>\n",
       "      <th>count</th>\n",
       "      <td>51.000000</td>\n",
       "    </tr>\n",
       "    <tr>\n",
       "      <th>mean</th>\n",
       "      <td>85.851474</td>\n",
       "    </tr>\n",
       "    <tr>\n",
       "      <th>std</th>\n",
       "      <td>4.505518</td>\n",
       "    </tr>\n",
       "    <tr>\n",
       "      <th>min</th>\n",
       "      <td>74.086949</td>\n",
       "    </tr>\n",
       "    <tr>\n",
       "      <th>25%</th>\n",
       "      <td>82.179660</td>\n",
       "    </tr>\n",
       "    <tr>\n",
       "      <th>50%</th>\n",
       "      <td>87.596259</td>\n",
       "    </tr>\n",
       "    <tr>\n",
       "      <th>75%</th>\n",
       "      <td>89.493987</td>\n",
       "    </tr>\n",
       "    <tr>\n",
       "      <th>max</th>\n",
       "      <td>92.028455</td>\n",
       "    </tr>\n",
       "  </tbody>\n",
       "</table>\n",
       "</div>"
      ],
      "text/plain": [
       "       percent_completed_hs\n",
       "count             51.000000\n",
       "mean              85.851474\n",
       "std                4.505518\n",
       "min               74.086949\n",
       "25%               82.179660\n",
       "50%               87.596259\n",
       "75%               89.493987\n",
       "max               92.028455"
      ]
     },
     "execution_count": 150,
     "metadata": {},
     "output_type": "execute_result"
    }
   ],
   "source": [
    "highSchool_state.describe()"
   ]
  },
  {
   "cell_type": "markdown",
   "metadata": {},
   "source": [
    "The income information for Arizona, for example, is calculated using the median household income for its 372 cities, resulting in a mean income of $42,495.67:"
   ]
  },
  {
   "cell_type": "code",
   "execution_count": 151,
   "metadata": {},
   "outputs": [
    {
     "data": {
      "text/html": [
       "<div>\n",
       "<style scoped>\n",
       "    .dataframe tbody tr th:only-of-type {\n",
       "        vertical-align: middle;\n",
       "    }\n",
       "\n",
       "    .dataframe tbody tr th {\n",
       "        vertical-align: top;\n",
       "    }\n",
       "\n",
       "    .dataframe thead th {\n",
       "        text-align: right;\n",
       "    }\n",
       "</style>\n",
       "<table border=\"1\" class=\"dataframe\">\n",
       "  <thead>\n",
       "    <tr style=\"text-align: right;\">\n",
       "      <th></th>\n",
       "      <th>Median Income</th>\n",
       "    </tr>\n",
       "  </thead>\n",
       "  <tbody>\n",
       "    <tr>\n",
       "      <th>count</th>\n",
       "      <td>372.000000</td>\n",
       "    </tr>\n",
       "    <tr>\n",
       "      <th>mean</th>\n",
       "      <td>42495.666667</td>\n",
       "    </tr>\n",
       "    <tr>\n",
       "      <th>std</th>\n",
       "      <td>19503.296251</td>\n",
       "    </tr>\n",
       "    <tr>\n",
       "      <th>min</th>\n",
       "      <td>4511.000000</td>\n",
       "    </tr>\n",
       "    <tr>\n",
       "      <th>25%</th>\n",
       "      <td>30055.500000</td>\n",
       "    </tr>\n",
       "    <tr>\n",
       "      <th>50%</th>\n",
       "      <td>39000.000000</td>\n",
       "    </tr>\n",
       "    <tr>\n",
       "      <th>75%</th>\n",
       "      <td>49930.000000</td>\n",
       "    </tr>\n",
       "    <tr>\n",
       "      <th>max</th>\n",
       "      <td>151184.000000</td>\n",
       "    </tr>\n",
       "  </tbody>\n",
       "</table>\n",
       "</div>"
      ],
      "text/plain": [
       "       Median Income\n",
       "count     372.000000\n",
       "mean    42495.666667\n",
       "std     19503.296251\n",
       "min      4511.000000\n",
       "25%     30055.500000\n",
       "50%     39000.000000\n",
       "75%     49930.000000\n",
       "max    151184.000000"
      ]
     },
     "execution_count": 151,
     "metadata": {},
     "output_type": "execute_result"
    }
   ],
   "source": [
    "income.loc[income['Geographic Area'] == 'AZ'].describe()"
   ]
  },
  {
   "cell_type": "markdown",
   "metadata": {},
   "source": [
    "Note the use of Median Income for the cities as the measure of central tendency. Though the mean is often a better measure, this eliminates skewing due to outliers. However, the central tendency of the states is measured using mean of the medians. The distribution of these incomes for Arizona follows the same right-skewed distribution as that of the national data:"
   ]
  },
  {
   "cell_type": "code",
   "execution_count": 152,
   "metadata": {},
   "outputs": [
    {
     "data": {
      "text/plain": [
       "Text(0,0.5,'Number of US States')"
      ]
     },
     "execution_count": 152,
     "metadata": {},
     "output_type": "execute_result"
    },
    {
     "data": {
      "image/png": "[encoded data removed]",
      "text/plain": [
       "<matplotlib.figure.Figure at 0x239a8010630>"
      ]
     },
     "metadata": {},
     "output_type": "display_data"
    },
    {
     "data": {
      "image/png": "[encoded data removed]",
      "text/plain": [
       "<matplotlib.figure.Figure at 0x239a9df0a58>"
      ]
     },
     "metadata": {},
     "output_type": "display_data"
    }
   ],
   "source": [
    "income_az = income.loc[income['Geographic Area'] == 'AZ']\n",
    "pd.DataFrame.hist(income_az, bins=10)\n",
    "plt.title('Median incomes for cities in Arizona')\n",
    "plt.xlabel('Income (USD)')\n",
    "plt.ylabel('Number of US States')\n",
    "pd.DataFrame.hist(income_state, bins=10)\n",
    "plt.title('Means of Median Incomes in U.S. States (plus D.C.)')\n",
    "plt.xlabel('Income (USD)')\n",
    "plt.ylabel('Number of US States')"
   ]
  },
  {
   "cell_type": "markdown",
   "metadata": {},
   "source": [
    "The first problem with the data I found is that no matter how complete the data is for each locale and what statistical correlations may exist, this is only data for a single year, 2015. Without previous year data to compare, any correlations cannot be shown to reflect any trends. Accordingly, I decided to move my focus away from the data on police shootings until I had processed and analyzed the raw demographic data as it pertains to education, income, and poverty. To start, I wanted to see if there appears to be a correlation between high school graduation rates, income, and poverty. It seems intuitive that they are related. But again, given the politically charged nature of the subject verification of what is presumed true seems appropriate.  \n",
    "    \n",
    "Additionally, one might wonder why, if statistical relationships between race and police shootings are the focus, why all the demographic data on wealth and education to begin with. The answer rests in the alternate opinion that high crime rates in certain areas are the cause of increased police shootings and that these areas can be identified by low education and income as well as high percentages of the population living below the poverty line and that cities with higher concentrations of black Americans possess a higher incident rate of these variables. So it is this relationship that I’ll investigate first. \n",
    "    \n",
    "To calculate the strength of a linear relationship between two variables, we use the sample correlation coefficient, or a Pearson’s r. Its range is -1 ≤ r ≤ +1. The closer r is to 0 the less of a linear relationship exists between x and y. Near +1 we can say that there is a strong positive relationship, while a value closer to -1 indicates a strong negative relationship. Using the mean poverty rates, graduation rates, and mean of median incomes for each state, plus Washington D.C. we have 51 data points to work with. Statisticians often determine this by calculating the coefficient for high school graduation rates and poverty. "
   ]
  },
  {
   "cell_type": "code",
   "execution_count": 153,
   "metadata": {},
   "outputs": [
    {
     "data": {
      "text/html": [
       "<div>\n",
       "<style scoped>\n",
       "    .dataframe tbody tr th:only-of-type {\n",
       "        vertical-align: middle;\n",
       "    }\n",
       "\n",
       "    .dataframe tbody tr th {\n",
       "        vertical-align: top;\n",
       "    }\n",
       "\n",
       "    .dataframe thead th {\n",
       "        text-align: right;\n",
       "    }\n",
       "</style>\n",
       "<table border=\"1\" class=\"dataframe\">\n",
       "  <thead>\n",
       "    <tr style=\"text-align: right;\">\n",
       "      <th></th>\n",
       "      <th>income_state</th>\n",
       "      <th>highSchoolState</th>\n",
       "    </tr>\n",
       "  </thead>\n",
       "  <tbody>\n",
       "    <tr>\n",
       "      <th>income_state</th>\n",
       "      <td>1.000000</td>\n",
       "      <td>0.561194</td>\n",
       "    </tr>\n",
       "    <tr>\n",
       "      <th>highSchoolState</th>\n",
       "      <td>0.561194</td>\n",
       "      <td>1.000000</td>\n",
       "    </tr>\n",
       "  </tbody>\n",
       "</table>\n",
       "</div>"
      ],
      "text/plain": [
       "                 income_state  highSchoolState\n",
       "income_state         1.000000         0.561194\n",
       "highSchoolState      0.561194         1.000000"
      ]
     },
     "execution_count": 153,
     "metadata": {},
     "output_type": "execute_result"
    }
   ],
   "source": [
    "income_highSchool_state = pd.concat([income_state['Median Income'], highSchool_state['percent_completed_hs']], axis=1, keys=['income_state', 'highSchoolState'])\n",
    "income_highSchool_state.corr(method='pearson')"
   ]
  },
  {
   "cell_type": "markdown",
   "metadata": {},
   "source": [
    "Accordingly, we see that income and high school graduation rates have an above average positive relationship of 0.562528. Of course, another quick way to assess the relationship of these variables is a simple scatter plot analysis. "
   ]
  },
  {
   "cell_type": "code",
   "execution_count": 154,
   "metadata": {},
   "outputs": [
    {
     "data": {
      "text/plain": [
       "[]"
      ]
     },
     "execution_count": 154,
     "metadata": {},
     "output_type": "execute_result"
    },
    {
     "data": {
      "image/png": "[encoded data removed]",
      "text/plain": [
       "<matplotlib.figure.Figure at 0x239a8010668>"
      ]
     },
     "metadata": {},
     "output_type": "display_data"
    }
   ],
   "source": [
    "fig = plt.figure(figsize=(9,7))\n",
    "plt.scatter(highSchool_state, poverty_state, s=None)\n",
    "plt.title('Poverty Rate vs. HS Grad Rate in the U.S.')\n",
    "plt.xlabel(\"High School Graduation Rate\")\n",
    "plt.ylabel(\"Poverty Rate\")\n",
    "cur_axes = plt.gca()\n",
    "cur_axes.axes.get_xaxis().set_ticks([])\n",
    "cur_axes.axes.get_yaxis().set_ticks([])"
   ]
  },
  {
   "cell_type": "markdown",
   "metadata": {},
   "source": [
    "Here we can see a clearly strong, negative linear relationship between the two variables, this time using high school graduation rates and percentage of population below the poverty level. This means that as high school graduation rates increase, poverty decreases. An unsurprising result, as is the strong positive linear relationship between high school graduation and income, albeit somewhat weaker than the former relationship as might be expected in a capitalist job market. \n",
    "\n",
    "Accordingly, we can answer both our first and second questions and affirm that there is a moderate to strong correlation among these variables. "
   ]
  },
  {
   "cell_type": "code",
   "execution_count": 155,
   "metadata": {},
   "outputs": [
    {
     "data": {
      "text/plain": [
       "[]"
      ]
     },
     "execution_count": 155,
     "metadata": {},
     "output_type": "execute_result"
    },
    {
     "data": {
      "image/png": "[encoded data removed]",
      "text/plain": [
       "<matplotlib.figure.Figure at 0x239a9e12630>"
      ]
     },
     "metadata": {},
     "output_type": "display_data"
    }
   ],
   "source": [
    "fig = plt.figure(figsize=(9,7))\n",
    "plt.scatter(highSchool_state, income_state, s=None)\n",
    "plt.title('Income vs. HS Grad Rate in the U.S.')\n",
    "plt.xlabel(\"High School Graduation Rate\")\n",
    "plt.ylabel(\"Income\")\n",
    "cur_axes = plt.gca()\n",
    "cur_axes.axes.get_xaxis().set_ticks([])\n",
    "cur_axes.axes.get_yaxis().set_ticks([])"
   ]
  },
  {
   "cell_type": "markdown",
   "metadata": {},
   "source": [
    "The next question to be asked is whether or not the racial makeup of areas most affected by low education, low income, and higher poverty levels as is consistent with the media narrative. If true, however, the next step is not to start analyzing police shootings in these areas until we can establish that these regions also possess higher crime rates that would call for increased police presence. If an area is being policed more, then increases in police activity is to be expected and the per-capita rates of police shootings may be entirely consistent. This will be the focus of further research. "
   ]
  },
  {
   "cell_type": "markdown",
   "metadata": {},
   "source": [
    "So now that the correlations among income, education, and poverty has been established, we should assess the relationship between these variables and the racial makeup of states. However, a quick look at the racial makeup data reveals a big problem. The sum of each city's racial percentages (white, hispanic, black, asian, & native American) exceeds 100% over 56% of the time, and in many cities equals 200% (100% white & 100% hispanic). This is likely a result of the common practice of surveying race with an intermediate choice between white and hispanic, \"white but of Hispanic descent\". Even federal guidelines define \"Hispanic\" not as a race, but as an ethnicity [according to Pew Research](http://www.pewresearch.org/fact-tank/2015/06/15/is-being-hispanic-a-matter-of-race-ethnicity-or-both/). \n",
    "\n",
    "However, this needn't invalidate the racial data for our purposes. The hypothesis being tested is whether black communities suffer a disproportionately higher amount of police killings. So we really only need to test the relationships among our established coorelations (education, income, & poverty) with concentrations of blacks across US cities, then test the relationsip between cities with higher police killinng incidents versus city and state concentrations of black Americans.\n",
    "\n",
    "The datasets provided do not provide overall populations of U.S cities. So I have obtained a [new dataset](https://www.kaggle.com/zbi441/us-metropolitan-population-density-2016/data) of city population estimates for 2016. The population differences between 2015 and 2016 are expected to be negligible and pose no problems when comparing the data. From the population dataset I will create a new DataFrame for the top 100 most populous cities and add in the black population percentages and percentages living below the poverty line for comparison. "
   ]
  },
  {
   "cell_type": "code",
   "execution_count": 156,
   "metadata": {},
   "outputs": [],
   "source": [
    "import scipy"
   ]
  },
  {
   "cell_type": "code",
   "execution_count": 157,
   "metadata": {},
   "outputs": [],
   "source": [
    "population = pd.read_csv('city_stat_2.csv', encoding='latin1')"
   ]
  },
  {
   "cell_type": "code",
   "execution_count": 158,
   "metadata": {},
   "outputs": [
    {
     "data": {
      "text/html": [
       "<div>\n",
       "<style scoped>\n",
       "    .dataframe tbody tr th:only-of-type {\n",
       "        vertical-align: middle;\n",
       "    }\n",
       "\n",
       "    .dataframe tbody tr th {\n",
       "        vertical-align: top;\n",
       "    }\n",
       "\n",
       "    .dataframe thead th {\n",
       "        text-align: right;\n",
       "    }\n",
       "</style>\n",
       "<table border=\"1\" class=\"dataframe\">\n",
       "  <thead>\n",
       "    <tr style=\"text-align: right;\">\n",
       "      <th></th>\n",
       "      <th>2016_rank</th>\n",
       "      <th>city</th>\n",
       "      <th>State</th>\n",
       "      <th>2016_estimate</th>\n",
       "      <th>2010_Census</th>\n",
       "      <th>Change</th>\n",
       "      <th>2016_land area</th>\n",
       "      <th>population_density</th>\n",
       "      <th>Location (longitude)</th>\n",
       "      <th>location(latitude)</th>\n",
       "    </tr>\n",
       "  </thead>\n",
       "  <tbody>\n",
       "    <tr>\n",
       "      <th>0</th>\n",
       "      <td>1</td>\n",
       "      <td>New York</td>\n",
       "      <td>New York</td>\n",
       "      <td>8,537,673</td>\n",
       "      <td>8,175,133</td>\n",
       "      <td>4.43%</td>\n",
       "      <td>301.5 sq mi</td>\n",
       "      <td>28317.0</td>\n",
       "      <td>40.66</td>\n",
       "      <td>73.94</td>\n",
       "    </tr>\n",
       "    <tr>\n",
       "      <th>1</th>\n",
       "      <td>2</td>\n",
       "      <td>Los Angeles</td>\n",
       "      <td>California</td>\n",
       "      <td>3,976,322</td>\n",
       "      <td>3,792,621</td>\n",
       "      <td>4.84%</td>\n",
       "      <td>468.7 sq mi</td>\n",
       "      <td>8484.0</td>\n",
       "      <td>34.02</td>\n",
       "      <td>118.41</td>\n",
       "    </tr>\n",
       "    <tr>\n",
       "      <th>2</th>\n",
       "      <td>3</td>\n",
       "      <td>Chicago</td>\n",
       "      <td>Illinois</td>\n",
       "      <td>2,704,958</td>\n",
       "      <td>2,695,598</td>\n",
       "      <td>0.35%</td>\n",
       "      <td>227.3 sq mi</td>\n",
       "      <td>11900.0</td>\n",
       "      <td>41.84</td>\n",
       "      <td>87.68</td>\n",
       "    </tr>\n",
       "    <tr>\n",
       "      <th>3</th>\n",
       "      <td>4</td>\n",
       "      <td>Houston</td>\n",
       "      <td>Texas</td>\n",
       "      <td>2,303,482</td>\n",
       "      <td>2,100,263</td>\n",
       "      <td>9.68%</td>\n",
       "      <td>637.5 sq mi</td>\n",
       "      <td>3613.0</td>\n",
       "      <td>29.79</td>\n",
       "      <td>95.39</td>\n",
       "    </tr>\n",
       "    <tr>\n",
       "      <th>4</th>\n",
       "      <td>5</td>\n",
       "      <td>Phoenix</td>\n",
       "      <td>Arizona</td>\n",
       "      <td>1,615,017</td>\n",
       "      <td>1,445,632</td>\n",
       "      <td>11.72%</td>\n",
       "      <td>517.6 sq mi</td>\n",
       "      <td>3120.0</td>\n",
       "      <td>33.57</td>\n",
       "      <td>112.09</td>\n",
       "    </tr>\n",
       "    <tr>\n",
       "      <th>5</th>\n",
       "      <td>6</td>\n",
       "      <td>Philadelphia</td>\n",
       "      <td>Pennsylvania</td>\n",
       "      <td>1,567,872</td>\n",
       "      <td>1,526,006</td>\n",
       "      <td>2.74%</td>\n",
       "      <td>134.2 sq mi</td>\n",
       "      <td>11683.0</td>\n",
       "      <td>40.01</td>\n",
       "      <td>75.13</td>\n",
       "    </tr>\n",
       "    <tr>\n",
       "      <th>6</th>\n",
       "      <td>7</td>\n",
       "      <td>San Antonio</td>\n",
       "      <td>Texas</td>\n",
       "      <td>1,492,510</td>\n",
       "      <td>1,327,407</td>\n",
       "      <td>12.44%</td>\n",
       "      <td>461.0 sq mi</td>\n",
       "      <td>3238.0</td>\n",
       "      <td>29.47</td>\n",
       "      <td>98.53</td>\n",
       "    </tr>\n",
       "    <tr>\n",
       "      <th>7</th>\n",
       "      <td>8</td>\n",
       "      <td>San Diego</td>\n",
       "      <td>California</td>\n",
       "      <td>1,406,630</td>\n",
       "      <td>1,307,402</td>\n",
       "      <td>7.59%</td>\n",
       "      <td>325.2 sq mi</td>\n",
       "      <td>4325.0</td>\n",
       "      <td>32.82</td>\n",
       "      <td>117.14</td>\n",
       "    </tr>\n",
       "    <tr>\n",
       "      <th>8</th>\n",
       "      <td>9</td>\n",
       "      <td>Dallas</td>\n",
       "      <td>Texas</td>\n",
       "      <td>1,317,929</td>\n",
       "      <td>1,197,816</td>\n",
       "      <td>10.03%</td>\n",
       "      <td>340.9 sq mi</td>\n",
       "      <td>3866.0</td>\n",
       "      <td>32.79</td>\n",
       "      <td>96.77</td>\n",
       "    </tr>\n",
       "    <tr>\n",
       "      <th>9</th>\n",
       "      <td>10</td>\n",
       "      <td>San Jose</td>\n",
       "      <td>California</td>\n",
       "      <td>1,025,350</td>\n",
       "      <td>945,942</td>\n",
       "      <td>8.39%</td>\n",
       "      <td>177.5 sq mi</td>\n",
       "      <td>5777.0</td>\n",
       "      <td>37.30</td>\n",
       "      <td>121.82</td>\n",
       "    </tr>\n",
       "    <tr>\n",
       "      <th>10</th>\n",
       "      <td>11</td>\n",
       "      <td>Austin</td>\n",
       "      <td>Texas</td>\n",
       "      <td>947,890</td>\n",
       "      <td>790,390</td>\n",
       "      <td>19.93%</td>\n",
       "      <td>312.7 sq mi</td>\n",
       "      <td>3031.0</td>\n",
       "      <td>30.30</td>\n",
       "      <td>97.75</td>\n",
       "    </tr>\n",
       "    <tr>\n",
       "      <th>11</th>\n",
       "      <td>12</td>\n",
       "      <td>Jacksonville</td>\n",
       "      <td>Florida</td>\n",
       "      <td>880,619</td>\n",
       "      <td>821,784</td>\n",
       "      <td>7.16%</td>\n",
       "      <td>747.4 sq mi</td>\n",
       "      <td>1178.0</td>\n",
       "      <td>30.34</td>\n",
       "      <td>81.66</td>\n",
       "    </tr>\n",
       "    <tr>\n",
       "      <th>12</th>\n",
       "      <td>13</td>\n",
       "      <td>San Francisco</td>\n",
       "      <td>California</td>\n",
       "      <td>870,887</td>\n",
       "      <td>805,235</td>\n",
       "      <td>8.15%</td>\n",
       "      <td>46.9 sq mi</td>\n",
       "      <td>18569.0</td>\n",
       "      <td>37.73</td>\n",
       "      <td>123.03</td>\n",
       "    </tr>\n",
       "    <tr>\n",
       "      <th>13</th>\n",
       "      <td>14</td>\n",
       "      <td>Columbus</td>\n",
       "      <td>Ohio</td>\n",
       "      <td>860,090</td>\n",
       "      <td>787,033</td>\n",
       "      <td>9.28%</td>\n",
       "      <td>218.5 sq mi</td>\n",
       "      <td>3936.0</td>\n",
       "      <td>39.99</td>\n",
       "      <td>82.98</td>\n",
       "    </tr>\n",
       "    <tr>\n",
       "      <th>14</th>\n",
       "      <td>15</td>\n",
       "      <td>Indianapolis</td>\n",
       "      <td>Indiana</td>\n",
       "      <td>855,164</td>\n",
       "      <td>820,445</td>\n",
       "      <td>4.23%</td>\n",
       "      <td>361.5 sq mi</td>\n",
       "      <td>2366.0</td>\n",
       "      <td>39.78</td>\n",
       "      <td>86.15</td>\n",
       "    </tr>\n",
       "    <tr>\n",
       "      <th>15</th>\n",
       "      <td>16</td>\n",
       "      <td>Fort Worth</td>\n",
       "      <td>Texas</td>\n",
       "      <td>854,113</td>\n",
       "      <td>741,206</td>\n",
       "      <td>15.23%</td>\n",
       "      <td>342.9 sq mi</td>\n",
       "      <td>2491.0</td>\n",
       "      <td>32.78</td>\n",
       "      <td>97.35</td>\n",
       "    </tr>\n",
       "    <tr>\n",
       "      <th>16</th>\n",
       "      <td>17</td>\n",
       "      <td>Charlotte</td>\n",
       "      <td>North Carolina</td>\n",
       "      <td>842,051</td>\n",
       "      <td>731,424</td>\n",
       "      <td>15.12%</td>\n",
       "      <td>305.4 sq mi</td>\n",
       "      <td>2757.0</td>\n",
       "      <td>35.21</td>\n",
       "      <td>80.83</td>\n",
       "    </tr>\n",
       "    <tr>\n",
       "      <th>17</th>\n",
       "      <td>18</td>\n",
       "      <td>Seattle</td>\n",
       "      <td>Washington</td>\n",
       "      <td>704,352</td>\n",
       "      <td>608,660</td>\n",
       "      <td>15.72%</td>\n",
       "      <td>83.8 sq mi</td>\n",
       "      <td>8405.0</td>\n",
       "      <td>47.62</td>\n",
       "      <td>122.35</td>\n",
       "    </tr>\n",
       "    <tr>\n",
       "      <th>18</th>\n",
       "      <td>19</td>\n",
       "      <td>Denver</td>\n",
       "      <td>Colorado</td>\n",
       "      <td>693,060</td>\n",
       "      <td>600,158</td>\n",
       "      <td>15.48%</td>\n",
       "      <td>153.3 sq mi</td>\n",
       "      <td>4521.0</td>\n",
       "      <td>39.76</td>\n",
       "      <td>104.88</td>\n",
       "    </tr>\n",
       "    <tr>\n",
       "      <th>19</th>\n",
       "      <td>20</td>\n",
       "      <td>El Paso</td>\n",
       "      <td>Texas</td>\n",
       "      <td>683,080</td>\n",
       "      <td>649,121</td>\n",
       "      <td>5.23%</td>\n",
       "      <td>256.8 sq mi</td>\n",
       "      <td>2660.0</td>\n",
       "      <td>31.85</td>\n",
       "      <td>106.43</td>\n",
       "    </tr>\n",
       "  </tbody>\n",
       "</table>\n",
       "</div>"
      ],
      "text/plain": [
       "    2016_rank           city           State 2016_estimate 2010_Census  \\\n",
       "0           1       New York        New York     8,537,673   8,175,133   \n",
       "1           2    Los Angeles      California     3,976,322   3,792,621   \n",
       "2           3        Chicago        Illinois     2,704,958   2,695,598   \n",
       "3           4        Houston           Texas     2,303,482   2,100,263   \n",
       "4           5        Phoenix         Arizona     1,615,017   1,445,632   \n",
       "5           6   Philadelphia    Pennsylvania     1,567,872   1,526,006   \n",
       "6           7    San Antonio           Texas     1,492,510   1,327,407   \n",
       "7           8      San Diego      California     1,406,630   1,307,402   \n",
       "8           9         Dallas           Texas     1,317,929   1,197,816   \n",
       "9          10       San Jose      California     1,025,350     945,942   \n",
       "10         11         Austin           Texas       947,890     790,390   \n",
       "11         12   Jacksonville         Florida       880,619     821,784   \n",
       "12         13  San Francisco      California       870,887     805,235   \n",
       "13         14       Columbus            Ohio       860,090     787,033   \n",
       "14         15   Indianapolis         Indiana       855,164     820,445   \n",
       "15         16     Fort Worth           Texas       854,113     741,206   \n",
       "16         17      Charlotte  North Carolina       842,051     731,424   \n",
       "17         18        Seattle      Washington       704,352     608,660   \n",
       "18         19         Denver        Colorado       693,060     600,158   \n",
       "19         20        El Paso           Texas       683,080     649,121   \n",
       "\n",
       "    Change 2016_land area  population_density  Location (longitude)  \\\n",
       "0    4.43%    301.5 sq mi             28317.0                 40.66   \n",
       "1    4.84%    468.7 sq mi              8484.0                 34.02   \n",
       "2    0.35%    227.3 sq mi             11900.0                 41.84   \n",
       "3    9.68%    637.5 sq mi              3613.0                 29.79   \n",
       "4   11.72%    517.6 sq mi              3120.0                 33.57   \n",
       "5    2.74%    134.2 sq mi             11683.0                 40.01   \n",
       "6   12.44%    461.0 sq mi              3238.0                 29.47   \n",
       "7    7.59%    325.2 sq mi              4325.0                 32.82   \n",
       "8   10.03%    340.9 sq mi              3866.0                 32.79   \n",
       "9    8.39%    177.5 sq mi              5777.0                 37.30   \n",
       "10  19.93%    312.7 sq mi              3031.0                 30.30   \n",
       "11   7.16%    747.4 sq mi              1178.0                 30.34   \n",
       "12   8.15%     46.9 sq mi             18569.0                 37.73   \n",
       "13   9.28%    218.5 sq mi              3936.0                 39.99   \n",
       "14   4.23%    361.5 sq mi              2366.0                 39.78   \n",
       "15  15.23%    342.9 sq mi              2491.0                 32.78   \n",
       "16  15.12%    305.4 sq mi              2757.0                 35.21   \n",
       "17  15.72%     83.8 sq mi              8405.0                 47.62   \n",
       "18  15.48%    153.3 sq mi              4521.0                 39.76   \n",
       "19   5.23%    256.8 sq mi              2660.0                 31.85   \n",
       "\n",
       "    location(latitude)  \n",
       "0                73.94  \n",
       "1               118.41  \n",
       "2                87.68  \n",
       "3                95.39  \n",
       "4               112.09  \n",
       "5                75.13  \n",
       "6                98.53  \n",
       "7               117.14  \n",
       "8                96.77  \n",
       "9               121.82  \n",
       "10               97.75  \n",
       "11               81.66  \n",
       "12              123.03  \n",
       "13               82.98  \n",
       "14               86.15  \n",
       "15               97.35  \n",
       "16               80.83  \n",
       "17              122.35  \n",
       "18              104.88  \n",
       "19              106.43  "
      ]
     },
     "execution_count": 158,
     "metadata": {},
     "output_type": "execute_result"
    }
   ],
   "source": [
    "population.head(20)"
   ]
  },
  {
   "cell_type": "markdown",
   "metadata": {},
   "source": [
    "Using this dataset for 2016 population data I was able to create a new CSV matching the 100 most populous US cities with their respective black population percentages. "
   ]
  },
  {
   "cell_type": "code",
   "execution_count": 159,
   "metadata": {},
   "outputs": [],
   "source": [
    "pop_top100_withBlack = pd.read_csv('uspopulation_top100_w_black.csv', encoding='latin1')"
   ]
  },
  {
   "cell_type": "code",
   "execution_count": 160,
   "metadata": {},
   "outputs": [
    {
     "data": {
      "text/html": [
       "<div>\n",
       "<style scoped>\n",
       "    .dataframe tbody tr th:only-of-type {\n",
       "        vertical-align: middle;\n",
       "    }\n",
       "\n",
       "    .dataframe tbody tr th {\n",
       "        vertical-align: top;\n",
       "    }\n",
       "\n",
       "    .dataframe thead th {\n",
       "        text-align: right;\n",
       "    }\n",
       "</style>\n",
       "<table border=\"1\" class=\"dataframe\">\n",
       "  <thead>\n",
       "    <tr style=\"text-align: right;\">\n",
       "      <th></th>\n",
       "      <th>2016_rank</th>\n",
       "      <th>city</th>\n",
       "      <th>State</th>\n",
       "      <th>2016_estimate</th>\n",
       "      <th>share_black</th>\n",
       "    </tr>\n",
       "  </thead>\n",
       "  <tbody>\n",
       "    <tr>\n",
       "      <th>0</th>\n",
       "      <td>1</td>\n",
       "      <td>New York</td>\n",
       "      <td>New York</td>\n",
       "      <td>8,537,673</td>\n",
       "      <td>25.5</td>\n",
       "    </tr>\n",
       "    <tr>\n",
       "      <th>1</th>\n",
       "      <td>2</td>\n",
       "      <td>Los Angeles</td>\n",
       "      <td>California</td>\n",
       "      <td>3,976,322</td>\n",
       "      <td>9.6</td>\n",
       "    </tr>\n",
       "    <tr>\n",
       "      <th>2</th>\n",
       "      <td>3</td>\n",
       "      <td>Chicago</td>\n",
       "      <td>Illinois</td>\n",
       "      <td>2,704,958</td>\n",
       "      <td>32.9</td>\n",
       "    </tr>\n",
       "    <tr>\n",
       "      <th>3</th>\n",
       "      <td>4</td>\n",
       "      <td>Houston</td>\n",
       "      <td>Texas</td>\n",
       "      <td>2,303,482</td>\n",
       "      <td>23.7</td>\n",
       "    </tr>\n",
       "    <tr>\n",
       "      <th>4</th>\n",
       "      <td>5</td>\n",
       "      <td>Phoenix</td>\n",
       "      <td>Arizona</td>\n",
       "      <td>1,615,017</td>\n",
       "      <td>6.5</td>\n",
       "    </tr>\n",
       "    <tr>\n",
       "      <th>5</th>\n",
       "      <td>6</td>\n",
       "      <td>Philadelphia</td>\n",
       "      <td>Pennsylvania</td>\n",
       "      <td>1,567,872</td>\n",
       "      <td>46.9</td>\n",
       "    </tr>\n",
       "    <tr>\n",
       "      <th>6</th>\n",
       "      <td>7</td>\n",
       "      <td>San Antonio</td>\n",
       "      <td>Texas</td>\n",
       "      <td>1,492,510</td>\n",
       "      <td>6.9</td>\n",
       "    </tr>\n",
       "    <tr>\n",
       "      <th>7</th>\n",
       "      <td>8</td>\n",
       "      <td>San Diego</td>\n",
       "      <td>California</td>\n",
       "      <td>1,406,630</td>\n",
       "      <td>6.7</td>\n",
       "    </tr>\n",
       "    <tr>\n",
       "      <th>8</th>\n",
       "      <td>9</td>\n",
       "      <td>Dallas</td>\n",
       "      <td>Texas</td>\n",
       "      <td>1,317,929</td>\n",
       "      <td>25.0</td>\n",
       "    </tr>\n",
       "    <tr>\n",
       "      <th>9</th>\n",
       "      <td>10</td>\n",
       "      <td>San Jose</td>\n",
       "      <td>California</td>\n",
       "      <td>1,025,350</td>\n",
       "      <td>3.2</td>\n",
       "    </tr>\n",
       "  </tbody>\n",
       "</table>\n",
       "</div>"
      ],
      "text/plain": [
       "   2016_rank          city         State 2016_estimate  share_black\n",
       "0          1      New York      New York     8,537,673         25.5\n",
       "1          2   Los Angeles    California     3,976,322          9.6\n",
       "2          3       Chicago      Illinois     2,704,958         32.9\n",
       "3          4       Houston         Texas     2,303,482         23.7\n",
       "4          5       Phoenix       Arizona     1,615,017          6.5\n",
       "5          6  Philadelphia  Pennsylvania     1,567,872         46.9\n",
       "6          7   San Antonio         Texas     1,492,510          6.9\n",
       "7          8     San Diego    California     1,406,630          6.7\n",
       "8          9        Dallas         Texas     1,317,929         25.0\n",
       "9         10      San Jose    California     1,025,350          3.2"
      ]
     },
     "execution_count": 160,
     "metadata": {},
     "output_type": "execute_result"
    }
   ],
   "source": [
    "pop_top100_withBlack.head(10)"
   ]
  },
  {
   "cell_type": "markdown",
   "metadata": {},
   "source": [
    "To this DataFrame I added the poverty rates of their respective cities. "
   ]
  },
  {
   "cell_type": "code",
   "execution_count": 161,
   "metadata": {},
   "outputs": [],
   "source": [
    "poverty_rate = [20.6,22.1,22.3,22.5,23.1,26.4,19.8,15.4,24,11.3,18,17.7,13.2,21.7,21.3,18.8,16.8,13.5,17.3,20.9,18,21.5,40.3,18.2,27.6,18,18.3,17.5,16.4,23.7,28.7,19.2,25.3,29.8,22,16.5,19,24.6,20.6,13.4,16,28.3,8.3,16.7,20.4,21.9,20.2,17.5,27,17.3,36.2,21.8,19.8,15.3,12,16.5,22.1,17.5,18.8,18.9,27.1,25.3,22.9,22.3,30.5,8.2,9.8,19.3,7.5,29.7,15.9,27.8,20.2,12.5,12.3,19,19.3,19.2,17.2,30.8,30.8,19,20.7,10,9.5,21.7,18.3,21,24.8,16.6,15.1,9.7,6.6,27.1,17.2,6.1,25.6,25.5,14.3,33.4]\n",
    "pop_top100_withBlack['poverty_rate'] = poverty_rate"
   ]
  },
  {
   "cell_type": "code",
   "execution_count": 162,
   "metadata": {
    "scrolled": true
   },
   "outputs": [
    {
     "data": {
      "text/html": [
       "<div>\n",
       "<style scoped>\n",
       "    .dataframe tbody tr th:only-of-type {\n",
       "        vertical-align: middle;\n",
       "    }\n",
       "\n",
       "    .dataframe tbody tr th {\n",
       "        vertical-align: top;\n",
       "    }\n",
       "\n",
       "    .dataframe thead th {\n",
       "        text-align: right;\n",
       "    }\n",
       "</style>\n",
       "<table border=\"1\" class=\"dataframe\">\n",
       "  <thead>\n",
       "    <tr style=\"text-align: right;\">\n",
       "      <th></th>\n",
       "      <th>2016_rank</th>\n",
       "      <th>city</th>\n",
       "      <th>State</th>\n",
       "      <th>2016_estimate</th>\n",
       "      <th>share_black</th>\n",
       "      <th>poverty_rate</th>\n",
       "    </tr>\n",
       "  </thead>\n",
       "  <tbody>\n",
       "    <tr>\n",
       "      <th>0</th>\n",
       "      <td>1</td>\n",
       "      <td>New York</td>\n",
       "      <td>New York</td>\n",
       "      <td>8,537,673</td>\n",
       "      <td>25.5</td>\n",
       "      <td>20.6</td>\n",
       "    </tr>\n",
       "    <tr>\n",
       "      <th>1</th>\n",
       "      <td>2</td>\n",
       "      <td>Los Angeles</td>\n",
       "      <td>California</td>\n",
       "      <td>3,976,322</td>\n",
       "      <td>9.6</td>\n",
       "      <td>22.1</td>\n",
       "    </tr>\n",
       "    <tr>\n",
       "      <th>2</th>\n",
       "      <td>3</td>\n",
       "      <td>Chicago</td>\n",
       "      <td>Illinois</td>\n",
       "      <td>2,704,958</td>\n",
       "      <td>32.9</td>\n",
       "      <td>22.3</td>\n",
       "    </tr>\n",
       "    <tr>\n",
       "      <th>3</th>\n",
       "      <td>4</td>\n",
       "      <td>Houston</td>\n",
       "      <td>Texas</td>\n",
       "      <td>2,303,482</td>\n",
       "      <td>23.7</td>\n",
       "      <td>22.5</td>\n",
       "    </tr>\n",
       "    <tr>\n",
       "      <th>4</th>\n",
       "      <td>5</td>\n",
       "      <td>Phoenix</td>\n",
       "      <td>Arizona</td>\n",
       "      <td>1,615,017</td>\n",
       "      <td>6.5</td>\n",
       "      <td>23.1</td>\n",
       "    </tr>\n",
       "    <tr>\n",
       "      <th>5</th>\n",
       "      <td>6</td>\n",
       "      <td>Philadelphia</td>\n",
       "      <td>Pennsylvania</td>\n",
       "      <td>1,567,872</td>\n",
       "      <td>46.9</td>\n",
       "      <td>26.4</td>\n",
       "    </tr>\n",
       "    <tr>\n",
       "      <th>6</th>\n",
       "      <td>7</td>\n",
       "      <td>San Antonio</td>\n",
       "      <td>Texas</td>\n",
       "      <td>1,492,510</td>\n",
       "      <td>6.9</td>\n",
       "      <td>19.8</td>\n",
       "    </tr>\n",
       "    <tr>\n",
       "      <th>7</th>\n",
       "      <td>8</td>\n",
       "      <td>San Diego</td>\n",
       "      <td>California</td>\n",
       "      <td>1,406,630</td>\n",
       "      <td>6.7</td>\n",
       "      <td>15.4</td>\n",
       "    </tr>\n",
       "    <tr>\n",
       "      <th>8</th>\n",
       "      <td>9</td>\n",
       "      <td>Dallas</td>\n",
       "      <td>Texas</td>\n",
       "      <td>1,317,929</td>\n",
       "      <td>25.0</td>\n",
       "      <td>24.0</td>\n",
       "    </tr>\n",
       "    <tr>\n",
       "      <th>9</th>\n",
       "      <td>10</td>\n",
       "      <td>San Jose</td>\n",
       "      <td>California</td>\n",
       "      <td>1,025,350</td>\n",
       "      <td>3.2</td>\n",
       "      <td>11.3</td>\n",
       "    </tr>\n",
       "  </tbody>\n",
       "</table>\n",
       "</div>"
      ],
      "text/plain": [
       "   2016_rank          city         State 2016_estimate  share_black  \\\n",
       "0          1      New York      New York     8,537,673         25.5   \n",
       "1          2   Los Angeles    California     3,976,322          9.6   \n",
       "2          3       Chicago      Illinois     2,704,958         32.9   \n",
       "3          4       Houston         Texas     2,303,482         23.7   \n",
       "4          5       Phoenix       Arizona     1,615,017          6.5   \n",
       "5          6  Philadelphia  Pennsylvania     1,567,872         46.9   \n",
       "6          7   San Antonio         Texas     1,492,510          6.9   \n",
       "7          8     San Diego    California     1,406,630          6.7   \n",
       "8          9        Dallas         Texas     1,317,929         25.0   \n",
       "9         10      San Jose    California     1,025,350          3.2   \n",
       "\n",
       "   poverty_rate  \n",
       "0          20.6  \n",
       "1          22.1  \n",
       "2          22.3  \n",
       "3          22.5  \n",
       "4          23.1  \n",
       "5          26.4  \n",
       "6          19.8  \n",
       "7          15.4  \n",
       "8          24.0  \n",
       "9          11.3  "
      ]
     },
     "execution_count": 162,
     "metadata": {},
     "output_type": "execute_result"
    }
   ],
   "source": [
    "pop_top100_withBlack.head(10)"
   ]
  },
  {
   "cell_type": "markdown",
   "metadata": {},
   "source": [
    "Visually we can see (as charted below) that there does not seem to be a very strong relationship between cities having high concentrations of African American residents and the poverty level of the city. Note that three of the lowest povery levels are San Jose, San Francisco, and Seattle. These are hubs of the tech industry (and others) and could be considered outliers in any consideration of cities affected by poverty. \n",
    "\n",
    "However, we can't look at a single chart of high-black-concentration cities and determine the relationship with poverty statistically. So we'll perform a student's t-test to assess support for our null hypothesis as well. "
   ]
  },
  {
   "cell_type": "code",
   "execution_count": 163,
   "metadata": {
    "scrolled": true
   },
   "outputs": [
    {
     "name": "stderr",
     "output_type": "stream",
     "text": [
      "C:\\ProgramData\\Anaconda3\\lib\\site-packages\\pandas\\plotting\\_core.py:1716: UserWarning: Pandas doesn't allow columns to be created via a new attribute name - see https://pandas.pydata.org/pandas-docs/stable/indexing.html#attribute-access\n",
      "  series.name = label\n"
     ]
    },
    {
     "data": {
      "text/plain": [
       "<matplotlib.axes._subplots.AxesSubplot at 0x239aa582fd0>"
      ]
     },
     "execution_count": 163,
     "metadata": {},
     "output_type": "execute_result"
    },
    {
     "data": {
      "image/png": "[encoded data removed]",
      "text/plain": [
       "<matplotlib.figure.Figure at 0x239aa5827b8>"
      ]
     },
     "metadata": {},
     "output_type": "display_data"
    }
   ],
   "source": [
    "pop_top100_withBlack[:20].plot(x='city', y=['share_black','poverty_rate'], kind='bar', figsize=(12,7))"
   ]
  },
  {
   "cell_type": "code",
   "execution_count": 164,
   "metadata": {},
   "outputs": [
    {
     "data": {
      "text/plain": [
       "Ttest_indResult(statistic=0.401017644513029, pvalue=0.6888395539543847)"
      ]
     },
     "execution_count": 164,
     "metadata": {},
     "output_type": "execute_result"
    }
   ],
   "source": [
    "a = pop_top100_withBlack['share_black']\n",
    "b = pop_top100_withBlack['poverty_rate']\n",
    "scipy.stats.ttest_ind(a, b)"
   ]
  },
  {
   "cell_type": "markdown",
   "metadata": {},
   "source": [
    "This p-value being 0.6888 tells us that there is no significant support for rejecting the null hypothesis that there is no relationship between black population concentrations and poverty. The null hypothesis is not rejected. We back up this test with another Pearson's correlation. "
   ]
  },
  {
   "cell_type": "code",
   "execution_count": 165,
   "metadata": {
    "scrolled": true
   },
   "outputs": [
    {
     "data": {
      "text/html": [
       "<div>\n",
       "<style scoped>\n",
       "    .dataframe tbody tr th:only-of-type {\n",
       "        vertical-align: middle;\n",
       "    }\n",
       "\n",
       "    .dataframe tbody tr th {\n",
       "        vertical-align: top;\n",
       "    }\n",
       "\n",
       "    .dataframe thead th {\n",
       "        text-align: right;\n",
       "    }\n",
       "</style>\n",
       "<table border=\"1\" class=\"dataframe\">\n",
       "  <thead>\n",
       "    <tr style=\"text-align: right;\">\n",
       "      <th></th>\n",
       "      <th>share_black</th>\n",
       "      <th>poverty_rate</th>\n",
       "    </tr>\n",
       "  </thead>\n",
       "  <tbody>\n",
       "    <tr>\n",
       "      <th>share_black</th>\n",
       "      <td>1.00000</td>\n",
       "      <td>0.56943</td>\n",
       "    </tr>\n",
       "    <tr>\n",
       "      <th>poverty_rate</th>\n",
       "      <td>0.56943</td>\n",
       "      <td>1.00000</td>\n",
       "    </tr>\n",
       "  </tbody>\n",
       "</table>\n",
       "</div>"
      ],
      "text/plain": [
       "              share_black  poverty_rate\n",
       "share_black       1.00000       0.56943\n",
       "poverty_rate      0.56943       1.00000"
      ]
     },
     "execution_count": 165,
     "metadata": {},
     "output_type": "execute_result"
    }
   ],
   "source": [
    "pop_top100_withBlack[['share_black','poverty_rate']].corr(method='pearson')"
   ]
  },
  {
   "cell_type": "markdown",
   "metadata": {},
   "source": [
    "At this point, we have no reason to reject the null hypothesis. But the data analysis has only begun. Further research must include similar comparisons of cities with low black populations, mulitple years of data on population demographics a well as a thorough analysis of fatal police incidents, accounting for a number of variables such as victim behavior prior, the threat to and perceived by the officer, the nature of the call that brought police presence, and several othes including, yes... race. Accordingly, follow up research should include horizontal data analysis of the same correlations and relationships analyzed here for other races and within areas with low black populations, but of moderate to large populations. Then vertical data analysis of the police shootings data should be evaluated as they relate to racial bias only when other demographic factors ahve been considered and tested for their impact. "
   ]
  }
 ],
 "metadata": {
  "kernelspec": {
   "display_name": "Python 3",
   "language": "python",
   "name": "python3"
  },
  "language_info": {
   "codemirror_mode": {
    "name": "ipython",
    "version": 3
   },
   "file_extension": ".py",
   "mimetype": "text/x-python",
   "name": "python",
   "nbconvert_exporter": "python",
   "pygments_lexer": "ipython3",
   "version": "3.6.4"
  }
 },
 "nbformat": 4,
 "nbformat_minor": 2
}
